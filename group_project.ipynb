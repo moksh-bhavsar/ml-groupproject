{
 "cells": [
  {
   "cell_type": "markdown",
   "metadata": {},
   "source": [
    "# Machine Learning Group Project\n",
    "\n",
    "This notebook contains the code for training our Machine Learning module which classifies the image into 101 categories of food. The dataset that we used for training and testing can be found here. https://pytorch.org/vision/stable/generated/torchvision.datasets.Food101.html#food101."
   ]
  },
  {
   "cell_type": "markdown",
   "metadata": {},
   "source": [
    "## Import modules\n",
    "\n",
    "This section contains code to import all the code that is required for our ML pipeline."
   ]
  },
  {
   "cell_type": "code",
   "execution_count": 1,
   "metadata": {},
   "outputs": [],
   "source": [
    "# Import statements"
   ]
  },
  {
   "cell_type": "markdown",
   "metadata": {},
   "source": [
    "## Import Dataset\n",
    "\n",
    "This section contains downloading the dataset, changing it into dataloader compatible format and getting a training and validation data with 70-30 split."
   ]
  },
  {
   "cell_type": "markdown",
   "metadata": {},
   "source": [
    "### Import dataset from PyTorch"
   ]
  },
  {
   "cell_type": "code",
   "execution_count": 2,
   "metadata": {},
   "outputs": [],
   "source": [
    "# import dataset from python"
   ]
  },
  {
   "cell_type": "markdown",
   "metadata": {},
   "source": [
    "### Transform Dataset\n",
    "\n",
    "Transform the dataset into a format that is compatible with the dataloader function of PyTorch. The PyTorch documentation can be accessed on https://pytorch.org/docs/stable/data.html#torch.utils.data.TensorDataset and https://pytorch.org/docs/stable/data.html#torch.utils.data.DataLoader.\n",
    "\n",
    "Make sure to split your dataset into train and test before creating the dataloader"
   ]
  },
  {
   "cell_type": "code",
   "execution_count": 3,
   "metadata": {},
   "outputs": [],
   "source": [
    "# Transform the dataset in TensorDataset\n",
    "\n",
    "# Split dataset in to train and test dataset\n",
    "\n",
    "# Create train and validation dataloader"
   ]
  },
  {
   "cell_type": "markdown",
   "metadata": {},
   "source": [
    "## Create the model for Image Classification\n",
    "\n",
    "This section contains the code to either create a model from Scratch or using built-in PyTorch API modules. The basic architecture of the model is x -> (conv2d -> maxpool2d -> activation)* -> flatten -> Linear"
   ]
  },
  {
   "cell_type": "code",
   "execution_count": 6,
   "metadata": {},
   "outputs": [],
   "source": [
    "# Create a new class that is a child of LightningModule that has all the required methods\n",
    "# Refer to https://pytorch.org/docs/stable/data.html#torch.utils.data.DataLoader for a list of require methods"
   ]
  },
  {
   "cell_type": "markdown",
   "metadata": {},
   "source": [
    "## Training\n",
    "\n",
    "This section contains the training and logging of the module and the metrics for each step."
   ]
  },
  {
   "cell_type": "markdown",
   "metadata": {},
   "source": []
  }
 ],
 "metadata": {
  "kernelspec": {
   "display_name": "Python 3",
   "language": "python",
   "name": "python3"
  },
  "language_info": {
   "codemirror_mode": {
    "name": "ipython",
    "version": 3
   },
   "file_extension": ".py",
   "mimetype": "text/x-python",
   "name": "python",
   "nbconvert_exporter": "python",
   "pygments_lexer": "ipython3",
   "version": "3.11.6"
  }
 },
 "nbformat": 4,
 "nbformat_minor": 2
}
